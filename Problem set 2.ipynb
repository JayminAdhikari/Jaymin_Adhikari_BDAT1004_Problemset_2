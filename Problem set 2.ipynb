{
 "cells": [
  {
   "cell_type": "markdown",
   "id": "22262f37",
   "metadata": {},
   "source": [
    "Question 1"
   ]
  },
  {
   "cell_type": "code",
   "execution_count": 1,
   "id": "e4ff2f9a",
   "metadata": {},
   "outputs": [],
   "source": [
    "a = 0 \n",
    "\n",
    "def b(): \n",
    "    global a \n",
    "    a = c(a) \n",
    "\n",
    "def c(a): \n",
    "    return a + 2 "
   ]
  },
  {
   "cell_type": "code",
   "execution_count": 2,
   "id": "d59196a6",
   "metadata": {},
   "outputs": [],
   "source": [
    "b()"
   ]
  },
  {
   "cell_type": "code",
   "execution_count": 3,
   "id": "35cf5bf1",
   "metadata": {},
   "outputs": [],
   "source": [
    "b()"
   ]
  },
  {
   "cell_type": "code",
   "execution_count": 4,
   "id": "d7026930",
   "metadata": {},
   "outputs": [],
   "source": [
    "b()"
   ]
  },
  {
   "cell_type": "code",
   "execution_count": 5,
   "id": "7b06b0bb",
   "metadata": {},
   "outputs": [
    {
     "data": {
      "text/plain": [
       "6"
      ]
     },
     "execution_count": 5,
     "metadata": {},
     "output_type": "execute_result"
    }
   ],
   "source": [
    "a"
   ]
  },
  {
   "cell_type": "markdown",
   "id": "e7d15ae7",
   "metadata": {},
   "source": [
    "Question 2"
   ]
  },
  {
   "cell_type": "code",
   "execution_count": 6,
   "id": "660eefc8",
   "metadata": {},
   "outputs": [],
   "source": [
    "def file_length(file_name):\n",
    "    try:\n",
    "        with open(file_name, 'r') as file:\n",
    "            contents = file.read()\n",
    "            print(len(contents))\n",
    "    except FileNotFoundError:\n",
    "        print(f\"File {file_name} not found.\")\n"
   ]
  },
  {
   "cell_type": "code",
   "execution_count": 7,
   "id": "dc9da321",
   "metadata": {},
   "outputs": [
    {
     "name": "stdout",
     "output_type": "stream",
     "text": [
      "123\n",
      "File ilelength.txt not found.\n"
     ]
    }
   ],
   "source": [
    "# Testing the function\n",
    "file_length('Filelength.txt')\n",
    "file_length('ilelength.txt')"
   ]
  },
  {
   "cell_type": "markdown",
   "id": "b87da6b0",
   "metadata": {},
   "source": [
    "Question 3"
   ]
  },
  {
   "cell_type": "code",
   "execution_count": 8,
   "id": "7c020859",
   "metadata": {},
   "outputs": [],
   "source": [
    "class Marsupial:\n",
    "    def __init__(self):\n",
    "        self.pouch = []\n",
    "    \n",
    "    def put_in_pouch(self, item):\n",
    "        self.pouch.append(item)\n",
    "    \n",
    "    def pouch_contents(self):\n",
    "        return self.pouch\n",
    "\n",
    "class Kangaroo(Marsupial):\n",
    "    def __init__(self, x, y):\n",
    "        super().__init__()\n",
    "        self.x = x\n",
    "        self.y = y\n",
    "    \n",
    "    def jump(self, dx, dy):\n",
    "        self.x += dx\n",
    "        self.y += dy\n",
    "    \n",
    "    def __str__(self):\n",
    "        return f\"I am a Kangaroo located at coordinates ({self.x},{self.y})\"\n"
   ]
  },
  {
   "cell_type": "code",
   "execution_count": 9,
   "id": "a8bbb738",
   "metadata": {},
   "outputs": [],
   "source": [
    "# Testing the classes\n",
    "k = Kangaroo(0, 0)"
   ]
  },
  {
   "cell_type": "code",
   "execution_count": 10,
   "id": "798377d2",
   "metadata": {},
   "outputs": [
    {
     "name": "stdout",
     "output_type": "stream",
     "text": [
      "I am a Kangaroo located at coordinates (0,0)\n"
     ]
    }
   ],
   "source": [
    "print(k)"
   ]
  },
  {
   "cell_type": "code",
   "execution_count": 11,
   "id": "9ab573e3",
   "metadata": {},
   "outputs": [
    {
     "name": "stdout",
     "output_type": "stream",
     "text": [
      "['doll', 'firetruck', 'kitten']\n"
     ]
    }
   ],
   "source": [
    "k.put_in_pouch('doll')\n",
    "k.put_in_pouch('firetruck')\n",
    "k.put_in_pouch('kitten')\n",
    "print(k.pouch_contents())"
   ]
  },
  {
   "cell_type": "code",
   "execution_count": 12,
   "id": "d0e91a23",
   "metadata": {},
   "outputs": [
    {
     "name": "stdout",
     "output_type": "stream",
     "text": [
      "I am a Kangaroo located at coordinates (3,0)\n"
     ]
    }
   ],
   "source": [
    "k.jump(1, 0)\n",
    "k.jump(1, 0)\n",
    "k.jump(1, 0)\n",
    "print(k)"
   ]
  },
  {
   "cell_type": "markdown",
   "id": "9f6d27ff",
   "metadata": {},
   "source": [
    "Question 4"
   ]
  },
  {
   "cell_type": "code",
   "execution_count": 13,
   "id": "46d0d44a",
   "metadata": {},
   "outputs": [],
   "source": [
    "def collatz(x):\n",
    "    print(x)\n",
    "    if x == 1:\n",
    "        return\n",
    "    elif x % 2 == 0:\n",
    "        collatz(x // 2)\n",
    "    else:\n",
    "        collatz(3 * x + 1)"
   ]
  },
  {
   "cell_type": "code",
   "execution_count": 14,
   "id": "0cff452f",
   "metadata": {},
   "outputs": [
    {
     "name": "stdout",
     "output_type": "stream",
     "text": [
      "1\n"
     ]
    }
   ],
   "source": [
    "collatz(1)"
   ]
  },
  {
   "cell_type": "code",
   "execution_count": 15,
   "id": "6d69d2ed",
   "metadata": {},
   "outputs": [
    {
     "name": "stdout",
     "output_type": "stream",
     "text": [
      "10\n",
      "5\n",
      "16\n",
      "8\n",
      "4\n",
      "2\n",
      "1\n"
     ]
    }
   ],
   "source": [
    "collatz(10)"
   ]
  },
  {
   "cell_type": "markdown",
   "id": "65a2762e",
   "metadata": {},
   "source": [
    "Question 5"
   ]
  },
  {
   "cell_type": "code",
   "execution_count": 16,
   "id": "e51a7854",
   "metadata": {},
   "outputs": [],
   "source": [
    "def binary(n):\n",
    "    if n < 2:\n",
    "        print(n, end='')\n",
    "    else:\n",
    "        binary(n // 2)\n",
    "        print(n % 2, end='')"
   ]
  },
  {
   "cell_type": "code",
   "execution_count": 17,
   "id": "403c8f17",
   "metadata": {},
   "outputs": [
    {
     "name": "stdout",
     "output_type": "stream",
     "text": [
      "0"
     ]
    }
   ],
   "source": [
    "binary(0)"
   ]
  },
  {
   "cell_type": "code",
   "execution_count": 18,
   "id": "555def36",
   "metadata": {},
   "outputs": [
    {
     "name": "stdout",
     "output_type": "stream",
     "text": [
      "1"
     ]
    }
   ],
   "source": [
    "binary(1)"
   ]
  },
  {
   "cell_type": "code",
   "execution_count": 19,
   "id": "77f4340b",
   "metadata": {},
   "outputs": [
    {
     "name": "stdout",
     "output_type": "stream",
     "text": [
      "11"
     ]
    }
   ],
   "source": [
    "binary(3)"
   ]
  },
  {
   "cell_type": "code",
   "execution_count": 20,
   "id": "5f658331",
   "metadata": {},
   "outputs": [
    {
     "name": "stdout",
     "output_type": "stream",
     "text": [
      "1001"
     ]
    }
   ],
   "source": [
    "binary(9)"
   ]
  },
  {
   "cell_type": "markdown",
   "id": "9635fae4",
   "metadata": {},
   "source": [
    "Question 6"
   ]
  },
  {
   "cell_type": "code",
   "execution_count": 21,
   "id": "d2dc18ce",
   "metadata": {},
   "outputs": [],
   "source": [
    "from html.parser import HTMLParser\n",
    "\n",
    "class HeadingParser(HTMLParser):\n",
    "    def __init__(self):\n",
    "        super().__init__()\n",
    "        self.in_heading = False\n",
    "        self.heading_level = 0\n",
    "\n",
    "    def handle_starttag(self, tag, attrs):\n",
    "        if tag.startswith('h') and len(tag) == 2 and tag[1].isdigit():\n",
    "            self.in_heading = True\n",
    "            self.heading_level = int(tag[1])\n",
    "\n",
    "    def handle_endtag(self, tag):\n",
    "        if tag.startswith('h') and len(tag) == 2 and tag[1].isdigit():\n",
    "            self.in_heading = False\n",
    "            self.heading_level = 0\n",
    "\n",
    "    def handle_data(self, data):\n",
    "        if self.in_heading:\n",
    "            print(' ' * (self.heading_level - 1) + data)"
   ]
  },
  {
   "cell_type": "code",
   "execution_count": 22,
   "id": "69ddeedc",
   "metadata": {},
   "outputs": [],
   "source": [
    "infile = open('w3c.html')"
   ]
  },
  {
   "cell_type": "code",
   "execution_count": 23,
   "id": "4cfbca1d",
   "metadata": {},
   "outputs": [],
   "source": [
    "content = infile.read()"
   ]
  },
  {
   "cell_type": "code",
   "execution_count": 24,
   "id": "64b13aaa",
   "metadata": {},
   "outputs": [],
   "source": [
    "infile.close()"
   ]
  },
  {
   "cell_type": "code",
   "execution_count": 25,
   "id": "d5033567",
   "metadata": {},
   "outputs": [],
   "source": [
    "hp = HeadingParser()"
   ]
  },
  {
   "cell_type": "code",
   "execution_count": 26,
   "id": "df1bd7cd",
   "metadata": {},
   "outputs": [
    {
     "name": "stdout",
     "output_type": "stream",
     "text": [
      "W3C Mission\n",
      " Principles\n"
     ]
    }
   ],
   "source": [
    "hp.feed(content)"
   ]
  },
  {
   "cell_type": "markdown",
   "id": "b1b6453c",
   "metadata": {},
   "source": [
    "Question 7"
   ]
  },
  {
   "cell_type": "code",
   "execution_count": 52,
   "id": "d4b8ae00",
   "metadata": {},
   "outputs": [],
   "source": [
    "import requests\n",
    "from bs4 import BeautifulSoup\n",
    "from urllib.parse import urljoin\n",
    "\n",
    "def webdir(url, depth, indent):\n",
    "    if depth < 0:\n",
    "        return\n",
    "\n",
    "    # Print the URL with the required indentation\n",
    "    print(' ' * indent + url)\n",
    "\n",
    "    try:\n",
    "        # Send a GET request to the URL\n",
    "        response = requests.get(url)\n",
    "        response.raise_for_status()  # Raise an HTTPError for bad responses\n",
    "\n",
    "        # Parse the HTML content\n",
    "        soup = BeautifulSoup(response.text, 'html.parser')\n",
    "\n",
    "        # Find all the anchor tags\n",
    "        links = soup.find_all('a', href=True)\n",
    "\n",
    "        # Recursively visit each link\n",
    "        for link in links:\n",
    "            # Get the absolute URL\n",
    "            absolute_url = urljoin(url, link['href'])\n",
    "            # Recursively call webdir with reduced depth and increased indentation\n",
    "            webdir(absolute_url, depth - 1, indent + 1)\n",
    "\n",
    "    except requests.exceptions.RequestException as e:\n",
    "        print(' ' * indent + f'Error: {e}')\n"
   ]
  },
  {
   "cell_type": "code",
   "execution_count": 53,
   "id": "a9c568af",
   "metadata": {},
   "outputs": [
    {
     "name": "stdout",
     "output_type": "stream",
     "text": [
      "http://reed.cs.depaul.edu/lperkovic/csc242/test1.html\n",
      "Error: 404 Client Error:  for url: http://reed.cs.depaul.edu/lperkovic/csc242/test1.html\n"
     ]
    }
   ],
   "source": [
    "# Testing the function\n",
    "webdir('http://reed.cs.depaul.edu/lperkovic/csc242/test1.html', 2, 0)\n"
   ]
  },
  {
   "cell_type": "markdown",
   "id": "6c512e95",
   "metadata": {},
   "source": [
    "Question 8"
   ]
  },
  {
   "cell_type": "code",
   "execution_count": 29,
   "id": "bc79b00b",
   "metadata": {},
   "outputs": [],
   "source": [
    "import sqlite3\n",
    "\n",
    "# Connect to the SQLite database (create if it doesn't exist)\n",
    "conn = sqlite3.connect('weather.db')\n",
    "cursor = conn.cursor()\n",
    "\n",
    "# Create the Weather table\n",
    "cursor.execute('''\n",
    "CREATE TABLE IF NOT EXISTS Weather (\n",
    "    City TEXT,\n",
    "    Country TEXT,\n",
    "    Season TEXT,\n",
    "    Temperature REAL,\n",
    "    Rainfall REAL\n",
    ")\n",
    "''')\n",
    "\n",
    "# Insert the given data into the Weather table\n",
    "weather_data = [\n",
    "    ('Mumbai', 'India', 'Winter', 24.8, 5.9),\n",
    "    ('Mumbai', 'India', 'Spring', 28.4, 16.2),\n",
    "    ('Mumbai', 'India', 'Summer', 27.9, 1549.4),\n",
    "    ('Mumbai', 'India', 'Fall', 27.6, 346.0),\n",
    "    ('London', 'United Kingdom', 'Winter', 4.2, 207.7),\n",
    "    ('London', 'United Kingdom', 'Spring', 8.3, 169.6),\n",
    "    ('London', 'United Kingdom', 'Summer', 15.7, 157.0),\n",
    "    ('London', 'United Kingdom', 'Fall', 10.4, 218.5),\n",
    "    ('Cairo', 'Egypt', 'Winter', 13.6, 16.5),\n",
    "    ('Cairo', 'Egypt', 'Spring', 20.7, 6.5),\n",
    "    ('Cairo', 'Egypt', 'Summer', 27.7, 0.1),\n",
    "    ('Cairo', 'Egypt', 'Fall', 22.2, 4.5)\n",
    "]\n",
    "\n",
    "cursor.executemany('''\n",
    "INSERT INTO Weather (City, Country, Season, Temperature, Rainfall)\n",
    "VALUES (?, ?, ?, ?, ?)\n",
    "''', weather_data)\n",
    "\n",
    "# Commit the changes\n",
    "conn.commit()\n",
    "\n"
   ]
  },
  {
   "cell_type": "code",
   "execution_count": 30,
   "id": "0d964ef1",
   "metadata": {},
   "outputs": [],
   "source": [
    "# Function to execute and print the result of a query\n",
    "def execute_query(query):\n",
    "    cursor.execute(query)\n",
    "    result = cursor.fetchall()\n",
    "    for row in result:\n",
    "        print(row)\n",
    "    print()"
   ]
  },
  {
   "cell_type": "code",
   "execution_count": 31,
   "id": "c559c89d",
   "metadata": {},
   "outputs": [
    {
     "name": "stdout",
     "output_type": "stream",
     "text": [
      "Select all values from a table\n",
      "('Mumbai', 'India', 'Winter', 24.8, 5.9)\n",
      "('Mumbai', 'India', 'Spring', 28.4, 16.2)\n",
      "('Mumbai', 'India', 'Summer', 27.9, 1549.4)\n",
      "('Mumbai', 'India', 'Fall', 27.6, 346.0)\n",
      "('London', 'United Kingdom', 'Winter', 4.2, 207.7)\n",
      "('London', 'United Kingdom', 'Spring', 8.3, 169.6)\n",
      "('London', 'United Kingdom', 'Summer', 15.7, 157.0)\n",
      "('London', 'United Kingdom', 'Fall', 10.4, 218.5)\n",
      "('Cairo', 'Egypt', 'Winter', 13.6, 16.5)\n",
      "('Cairo', 'Egypt', 'Spring', 20.7, 6.5)\n",
      "('Cairo', 'Egypt', 'Summer', 27.7, 0.1)\n",
      "('Cairo', 'Egypt', 'Fall', 22.2, 4.5)\n",
      "\n"
     ]
    }
   ],
   "source": [
    "print(\"Select all values from a table\")\n",
    "execute_query(\"SELECT * FROM Weather\")"
   ]
  },
  {
   "cell_type": "code",
   "execution_count": 32,
   "id": "4695b7e2",
   "metadata": {},
   "outputs": [
    {
     "name": "stdout",
     "output_type": "stream",
     "text": [
      "a) All the temperature data:\n",
      "(24.8,)\n",
      "(28.4,)\n",
      "(27.9,)\n",
      "(27.6,)\n",
      "(4.2,)\n",
      "(8.3,)\n",
      "(15.7,)\n",
      "(10.4,)\n",
      "(13.6,)\n",
      "(20.7,)\n",
      "(27.7,)\n",
      "(22.2,)\n",
      "\n"
     ]
    }
   ],
   "source": [
    "# a) All the temperature data\n",
    "print(\"a) All the temperature data:\")\n",
    "execute_query(\"SELECT Temperature FROM Weather\")"
   ]
  },
  {
   "cell_type": "code",
   "execution_count": 33,
   "id": "c4296e27",
   "metadata": {},
   "outputs": [
    {
     "name": "stdout",
     "output_type": "stream",
     "text": [
      "b) All the cities, but without repetition:\n",
      "('Mumbai',)\n",
      "('London',)\n",
      "('Cairo',)\n",
      "\n"
     ]
    }
   ],
   "source": [
    "# b) All the cities, but without repetition\n",
    "print(\"b) All the cities, but without repetition:\")\n",
    "execute_query(\"SELECT DISTINCT City FROM Weather\")"
   ]
  },
  {
   "cell_type": "code",
   "execution_count": 34,
   "id": "ed86e007",
   "metadata": {},
   "outputs": [
    {
     "name": "stdout",
     "output_type": "stream",
     "text": [
      "c) All the records for India:\n",
      "('Mumbai', 'India', 'Winter', 24.8, 5.9)\n",
      "('Mumbai', 'India', 'Spring', 28.4, 16.2)\n",
      "('Mumbai', 'India', 'Summer', 27.9, 1549.4)\n",
      "('Mumbai', 'India', 'Fall', 27.6, 346.0)\n",
      "\n"
     ]
    }
   ],
   "source": [
    "# c) All the records for India\n",
    "print(\"c) All the records for India:\")\n",
    "execute_query(\"SELECT * FROM Weather WHERE Country = 'India'\")"
   ]
  },
  {
   "cell_type": "code",
   "execution_count": 35,
   "id": "e42da4ac",
   "metadata": {},
   "outputs": [
    {
     "name": "stdout",
     "output_type": "stream",
     "text": [
      "d) All the Fall records:\n",
      "('Mumbai', 'India', 'Fall', 27.6, 346.0)\n",
      "('London', 'United Kingdom', 'Fall', 10.4, 218.5)\n",
      "('Cairo', 'Egypt', 'Fall', 22.2, 4.5)\n",
      "\n"
     ]
    }
   ],
   "source": [
    "# d) All the Fall records\n",
    "print(\"d) All the Fall records:\")\n",
    "execute_query(\"SELECT * FROM Weather WHERE Season = 'Fall'\")"
   ]
  },
  {
   "cell_type": "code",
   "execution_count": 36,
   "id": "5ab5ec8b",
   "metadata": {},
   "outputs": [
    {
     "name": "stdout",
     "output_type": "stream",
     "text": [
      "e) The city, country, and season for which the average rainfall is between 200 and 400 millimeters:\n",
      "('London', 'United Kingdom', 'Fall')\n",
      "('London', 'United Kingdom', 'Winter')\n",
      "('Mumbai', 'India', 'Fall')\n",
      "\n"
     ]
    }
   ],
   "source": [
    "# e) The city, country, and season for which the average rainfall is between 200 and 400 millimeters\n",
    "print(\"e) The city, country, and season for which the average rainfall is between 200 and 400 millimeters:\")\n",
    "execute_query(\"SELECT City, Country, Season FROM Weather GROUP BY City, Country, Season HAVING AVG(Rainfall) BETWEEN 200 AND 400\")"
   ]
  },
  {
   "cell_type": "code",
   "execution_count": 37,
   "id": "5918a714",
   "metadata": {},
   "outputs": [
    {
     "name": "stdout",
     "output_type": "stream",
     "text": [
      "f) The city and country for which the average Fall temperature is above 20 degrees, in increasing temperature order:\n",
      "('Cairo', 'Egypt')\n",
      "('Mumbai', 'India')\n",
      "\n"
     ]
    }
   ],
   "source": [
    "# f) The city and country for which the average Fall temperature is above 20 degrees, in increasing temperature order\n",
    "print(\"f) The city and country for which the average Fall temperature is above 20 degrees, in increasing temperature order:\")\n",
    "execute_query(\"SELECT City, Country FROM Weather WHERE Season = 'Fall' GROUP BY City, Country HAVING AVG(Temperature) > 20 ORDER BY AVG(Temperature)\")"
   ]
  },
  {
   "cell_type": "code",
   "execution_count": 38,
   "id": "ece133d5",
   "metadata": {},
   "outputs": [
    {
     "name": "stdout",
     "output_type": "stream",
     "text": [
      "g) The total annual rainfall for Cairo:\n",
      "(27.6,)\n",
      "\n"
     ]
    }
   ],
   "source": [
    "# g) The total annual rainfall for Cairo\n",
    "print(\"g) The total annual rainfall for Cairo:\")\n",
    "execute_query(\"SELECT SUM(Rainfall) AS TotalRainfall FROM Weather WHERE City = 'Cairo'\")"
   ]
  },
  {
   "cell_type": "code",
   "execution_count": 39,
   "id": "7066e83d",
   "metadata": {},
   "outputs": [
    {
     "name": "stdout",
     "output_type": "stream",
     "text": [
      "h) The total rainfall for each season:\n",
      "('Fall', 569.0)\n",
      "('Spring', 192.29999999999998)\n",
      "('Summer', 1706.5)\n",
      "('Winter', 230.1)\n",
      "\n"
     ]
    }
   ],
   "source": [
    "# h) The total rainfall for each season\n",
    "print(\"h) The total rainfall for each season:\")\n",
    "execute_query(\"SELECT Season, SUM(Rainfall) AS TotalRainfall FROM Weather GROUP BY Season\")"
   ]
  },
  {
   "cell_type": "code",
   "execution_count": 40,
   "id": "19066b99",
   "metadata": {},
   "outputs": [],
   "source": [
    "# Close the connection\n",
    "conn.close()"
   ]
  },
  {
   "cell_type": "markdown",
   "id": "35403c53",
   "metadata": {},
   "source": [
    "Question 9"
   ]
  },
  {
   "cell_type": "code",
   "execution_count": 41,
   "id": "2c2dda66",
   "metadata": {},
   "outputs": [],
   "source": [
    "words = ['The', 'quick', 'brown', 'fox', 'jumps', 'over', 'the', 'lazy', 'dog']"
   ]
  },
  {
   "cell_type": "code",
   "execution_count": 42,
   "id": "a905f57a",
   "metadata": {},
   "outputs": [
    {
     "data": {
      "text/plain": [
       "['THE', 'QUICK', 'BROWN', 'FOX', 'JUMPS', 'OVER', 'THE', 'LAZY', 'DOG']"
      ]
     },
     "execution_count": 42,
     "metadata": {},
     "output_type": "execute_result"
    }
   ],
   "source": [
    "# a)\n",
    "uppercase_words = [word.upper() for word in words]\n",
    "uppercase_words"
   ]
  },
  {
   "cell_type": "code",
   "execution_count": 43,
   "id": "4c823a02",
   "metadata": {},
   "outputs": [
    {
     "data": {
      "text/plain": [
       "['the', 'quick', 'brown', 'fox', 'jumps', 'over', 'the', 'lazy', 'dog']"
      ]
     },
     "execution_count": 43,
     "metadata": {},
     "output_type": "execute_result"
    }
   ],
   "source": [
    "# b)\n",
    "lowercase_words = [word.lower() for word in words]\n",
    "lowercase_words"
   ]
  },
  {
   "cell_type": "code",
   "execution_count": 44,
   "id": "20f5fdeb",
   "metadata": {},
   "outputs": [
    {
     "data": {
      "text/plain": [
       "[3, 5, 5, 3, 5, 4, 3, 4, 3]"
      ]
     },
     "execution_count": 44,
     "metadata": {},
     "output_type": "execute_result"
    }
   ],
   "source": [
    "# c)\n",
    "word_lengths = [len(word) for word in words]\n",
    "word_lengths"
   ]
  },
  {
   "cell_type": "code",
   "execution_count": 45,
   "id": "e80b9b84",
   "metadata": {},
   "outputs": [
    {
     "data": {
      "text/plain": [
       "[['THE', 'the', 3],\n",
       " ['QUICK', 'quick', 5],\n",
       " ['BROWN', 'brown', 5],\n",
       " ['FOX', 'fox', 3],\n",
       " ['JUMPS', 'jumps', 5],\n",
       " ['OVER', 'over', 4],\n",
       " ['THE', 'the', 3],\n",
       " ['LAZY', 'lazy', 4],\n",
       " ['DOG', 'dog', 3]]"
      ]
     },
     "execution_count": 45,
     "metadata": {},
     "output_type": "execute_result"
    }
   ],
   "source": [
    "# d)\n",
    "word_info = [[word.upper(), word.lower(), len(word)] for word in words]\n",
    "word_info"
   ]
  },
  {
   "cell_type": "code",
   "execution_count": 46,
   "id": "2f1dd5bd",
   "metadata": {},
   "outputs": [
    {
     "data": {
      "text/plain": [
       "['quick', 'brown', 'jumps', 'over', 'lazy']"
      ]
     },
     "execution_count": 46,
     "metadata": {},
     "output_type": "execute_result"
    }
   ],
   "source": [
    "# e)\n",
    "long_words = [word for word in words if len(word) >= 4]\n",
    "long_words"
   ]
  },
  {
   "cell_type": "code",
   "execution_count": null,
   "id": "f7bfb9d2",
   "metadata": {},
   "outputs": [],
   "source": []
  },
  {
   "cell_type": "code",
   "execution_count": null,
   "id": "77a1b28d",
   "metadata": {},
   "outputs": [],
   "source": []
  }
 ],
 "metadata": {
  "kernelspec": {
   "display_name": "Python 3",
   "language": "python",
   "name": "python3"
  },
  "language_info": {
   "codemirror_mode": {
    "name": "ipython",
    "version": 3
   },
   "file_extension": ".py",
   "mimetype": "text/x-python",
   "name": "python",
   "nbconvert_exporter": "python",
   "pygments_lexer": "ipython3",
   "version": "3.8.8"
  }
 },
 "nbformat": 4,
 "nbformat_minor": 5
}
